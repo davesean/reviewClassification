{
 "cells": [
  {
   "cell_type": "code",
   "execution_count": 1,
   "metadata": {},
   "outputs": [],
   "source": [
    "import json\n",
    "from sklearn.model_selection import train_test_split\n",
    "from cleantext import clean\n",
    "import matplotlib.pyplot as plt\n",
    "\n",
    "# Import all of the training data from the json file\n",
    "data = []\n",
    "with open('musicReviews.json') as f:\n",
    "    for line in f:\n",
    "        data.append(json.loads(line))\n",
    "\n",
    "# Extract only the overall rating and the text\n",
    "def extractor(json):\n",
    "    return json[\"overall\"], json[\"reviewText\"]\n",
    "\n",
    "# Store the text and ratings in lists\n",
    "features = []\n",
    "targets = []\n",
    "for d in data:\n",
    "    score, text = extractor(d)\n",
    "    features.append(clean(text))\n",
    "    targets.append(int(score))\n",
    "\n",
    "# Split the set into training and testing to evaluate testing later\n",
    "X_train, X_test, y_train, y_test = train_test_split(\n",
    "    features, targets, test_size=0.1, random_state=42)\n",
    "\n",
    "# Bin to see the distribution of the classes for sampling in case of inbalance\n",
    "bins_training = plt.hist(y_train,bins=5)"
   ]
  },
  {
   "cell_type": "markdown",
   "metadata": {},
   "source": [
    "## Test set"
   ]
  },
  {
   "cell_type": "code",
   "execution_count": 2,
   "metadata": {},
   "outputs": [
    {
     "data": {
      "image/png": "[encoded data removed]",
      "text/plain": [
       "<Figure size 432x288 with 1 Axes>"
      ]
     },
     "metadata": {},
     "output_type": "display_data"
    }
   ],
   "source": [
    "# As the training set is in balanced, the same will occur in the test set\n",
    "# Therefore, we will use a balanced metric and need weighting factors\n",
    "bins = plt.hist(y_test,bins=5)\n",
    "plt.show()"
   ]
  },
  {
   "cell_type": "markdown",
   "metadata": {},
   "source": [
    "As can be seen in the histogram, the samples in the test set are not balanced. When calculating Accuracy this, the performance can seemingly appear good, even though the model is only outputting the class that occurred the most. Therefore, we calculate weight factors to balance out the metric."
   ]
  },
  {
   "cell_type": "code",
   "execution_count": 3,
   "metadata": {},
   "outputs": [],
   "source": [
    "import numpy as np\n",
    "# Calculate the factors approximately, relative to the class with the largest amount of samples.\n",
    "# All samples of the largest class will count as 1, all others will receive a higher weighting\n",
    "# proportional to the ratio of their class to the largest class\n",
    "factors = np.round(np.max(bins[0])/bins[0])\n",
    "\n",
    "y_fact = []\n",
    "for i in range(len(y_test)):\n",
    "    y_fact.append(factors[y_test[i]-1])"
   ]
  },
  {
   "cell_type": "markdown",
   "metadata": {},
   "source": [
    "## Text Feature Extraction"
   ]
  },
  {
   "cell_type": "code",
   "execution_count": 4,
   "metadata": {},
   "outputs": [],
   "source": [
    "import numpy as np\n",
    "import nltk\n",
    "# Perhaps you will need to install some nltk packets after running the first time\n",
    "# To do so, create a new cell and install all necessary modules once.\n",
    "#nltk.download('movie_reviews')\n",
    "from nltk.tokenize import word_tokenize\n",
    "from nltk import pos_tag\n",
    "from nltk.corpus import stopwords\n",
    "from nltk.stem import WordNetLemmatizer\n",
    "from sklearn.preprocessing import LabelEncoder\n",
    "from collections import defaultdict\n",
    "from nltk.corpus import wordnet as wn\n",
    "from sklearn.feature_extraction.text import TfidfVectorizer\n",
    "from sklearn import model_selection, naive_bayes, svm\n",
    "from sklearn.metrics import accuracy_score\n",
    "\n",
    "# This function will transform the review text into tokens for words\n",
    "def preprocessing(list_of_sentences):\n",
    "    # Get a set of stop words to remove from\n",
    "    stop_words = set(stopwords.words(\"english\"))\n",
    "    # Get the dict to identify what kind of word is being processed\n",
    "    tag_map = defaultdict(lambda : wn.NOUN)\n",
    "    tag_map['J'] = wn.ADJ\n",
    "    tag_map['V'] = wn.VERB\n",
    "    tag_map['R'] = wn.ADV\n",
    "    # Initialize the word lemmatizer\n",
    "    word_Lemmatized = WordNetLemmatizer()\n",
    "\n",
    "    # List to store the processed review texts and sentiments\n",
    "    filtered_features = []\n",
    "    for sentence in list_of_sentences:\n",
    "        filtered_sentence = []\n",
    "        # Split the full string up into single words\n",
    "        tokenized_sentence = word_tokenize(sentence)\n",
    "        # Check the tag of each word\n",
    "        for word, tag in pos_tag(tokenized_sentence):\n",
    "            # Don't add the word if it is a stop word and check that the word is non empty and all characters are alphabetic\n",
    "            if word not in stop_words and word.isalpha():\n",
    "                # Reduce the word by lemmatizing it \n",
    "                filtered_sentence.append(word_Lemmatized.lemmatize(word,tag_map[tag[0]]))\n",
    "        # Add the list of words as one string to the list that will be returned\n",
    "        filtered_features.append(\" \".join(filtered_sentence))\n",
    "    return filtered_features"
   ]
  },
  {
   "cell_type": "code",
   "execution_count": 5,
   "metadata": {},
   "outputs": [],
   "source": [
    "# Process both the train and test set\n",
    "cleaned_X_train = preprocessing(X_train)\n",
    "cleaned_X_test = preprocessing(X_test)"
   ]
  },
  {
   "cell_type": "markdown",
   "metadata": {},
   "source": [
    "## Sentiment Analysis"
   ]
  },
  {
   "cell_type": "code",
   "execution_count": 6,
   "metadata": {},
   "outputs": [],
   "source": [
    "# Analyze the sentiment of the sentence before filtering out the sentence\n",
    "from textblob import Blobber\n",
    "from textblob.sentiments import NaiveBayesAnalyzer\n",
    "tb = Blobber(analyzer=NaiveBayesAnalyzer())\n",
    "\n",
    "def presentiment(list_of_sentences):\n",
    "    sentiment_features = []\n",
    "    for i, sentence in enumerate(list_of_sentences):\n",
    "        sent = tb(sentence)\n",
    "        # Get the probability of this being a positive sentiment\n",
    "        sentiment_features.append(sent.sentiment.p_pos)\n",
    "    return sentiment_features\n",
    "\n",
    "# Process both the train and test set\n",
    "sent_X_train = presentiment(X_train)\n",
    "sent_X_test = presentiment(X_test)"
   ]
  },
  {
   "cell_type": "markdown",
   "metadata": {},
   "source": [
    "The positive sentiment might be a good indicator, if a review was overall good or not. To achieve this, we use a pretrained sentiment analyzer and later add this data as an extra feature."
   ]
  },
  {
   "cell_type": "code",
   "execution_count": 15,
   "metadata": {},
   "outputs": [
    {
     "name": "stdout",
     "output_type": "stream",
     "text": [
      "(9234,) (1027,)\n"
     ]
    }
   ],
   "source": [
    "sent_X_train = np.asarray(sent_X_train)\n",
    "sent_X_test = np.asarray(sent_X_test)\n",
    "print(sent_X_train.shape, sent_X_test.shape)"
   ]
  },
  {
   "cell_type": "code",
   "execution_count": 16,
   "metadata": {},
   "outputs": [
    {
     "data": {
      "image/png": "[encoded data removed]",
      "text/plain": [
       "<Figure size 432x288 with 1 Axes>"
      ]
     },
     "metadata": {},
     "output_type": "display_data"
    },
    {
     "data": {
      "text/plain": [
       "<matplotlib.axes._subplots.AxesSubplot at 0x12f82fb38>"
      ]
     },
     "execution_count": 16,
     "metadata": {},
     "output_type": "execute_result"
    }
   ],
   "source": [
    "# Visualize the most common words in a histogram\n",
    "tokens = nltk.tokenize.word_tokenize(\" \".join(cleaned_X_train))\n",
    "fd = nltk.FreqDist(tokens)\n",
    "fd.plot(30,cumulative=False)"
   ]
  },
  {
   "cell_type": "markdown",
   "metadata": {},
   "source": [
    "In this frequency plot we see that words like \"good\" appear a lot, which can also be seen in the distribution of the rating, as most frequent rating is 5."
   ]
  },
  {
   "cell_type": "markdown",
   "metadata": {},
   "source": [
    "## Transform Words to Vector"
   ]
  },
  {
   "cell_type": "code",
   "execution_count": 61,
   "metadata": {},
   "outputs": [
    {
     "name": "stdout",
     "output_type": "stream",
     "text": [
      "(9234, 999) (1027, 999)\n"
     ]
    }
   ],
   "source": [
    "from sklearn.feature_extraction.text import TfidfVectorizer\n",
    "vectorizer = TfidfVectorizer(max_features=999, min_df = 0.001)\n",
    "\n",
    "# Create a vector from the strings for train and test\n",
    "train_vectors = vectorizer.fit_transform(cleaned_X_train)\n",
    "test_vectors = vectorizer.transform(cleaned_X_test)\n",
    "\n",
    "print(train_vectors.shape, test_vectors.shape)"
   ]
  },
  {
   "cell_type": "code",
   "execution_count": 62,
   "metadata": {},
   "outputs": [
    {
     "name": "stdout",
     "output_type": "stream",
     "text": [
      "(9234, 1000) (1027, 1000)\n"
     ]
    }
   ],
   "source": [
    "# Combine the features\n",
    "train_complete = np.zeros((train_vectors.shape[0], train_vectors.shape[1]+1))\n",
    "train_complete[:,-1] = sent_X_train\n",
    "train_complete[:,:-1] = train_vectors.todense()\n",
    "\n",
    "test_complete = np.zeros((test_vectors.shape[0], test_vectors.shape[1]+1))\n",
    "test_complete[:,-1] = sent_X_test\n",
    "test_complete[:,:-1] = test_vectors.todense()\n",
    "\n",
    "print(train_complete.shape, test_complete.shape)"
   ]
  },
  {
   "cell_type": "markdown",
   "metadata": {},
   "source": [
    "## SMOTE\n",
    "We use smote to balance the training set, such that the smaller classes are not overlooked. All the smaller classes are over sampled to have as many samples as the largest class."
   ]
  },
  {
   "cell_type": "code",
   "execution_count": 63,
   "metadata": {},
   "outputs": [],
   "source": [
    "# Due to the imbalanced set, we use SMOTE to resample the smaller classes in training\n",
    "from imblearn.over_sampling import SMOTE\n",
    "# Find the largest class in training\n",
    "num_samples = int(np.max(bins_training[0]))\n",
    "sm = SMOTE(random_state=42, ratio={1: num_samples, 2: num_samples, 3: num_samples, 4: num_samples, 5:num_samples})\n",
    "# Fit and balance the training set\n",
    "train_vectors_bal, y_train_bal = sm.fit_sample(train_complete, y_train)"
   ]
  },
  {
   "cell_type": "markdown",
   "metadata": {},
   "source": [
    "## Evaluation Multinomial NB\n",
    "As a benchmark we choose the multinomial naive Bayes classifier."
   ]
  },
  {
   "cell_type": "code",
   "execution_count": 64,
   "metadata": {},
   "outputs": [
    {
     "name": "stdout",
     "output_type": "stream",
     "text": [
      "Multinomial NB Accuracy Score ->  0.3675098114611076\n",
      "[[  7   5   8   3   1]\n",
      " [  4   7   7   7   2]\n",
      " [  6   6  29  24   7]\n",
      " [ 10  17  49  63  62]\n",
      " [ 39  46  85 132 401]]\n",
      "[0.29166667 0.25925926 0.40277778 0.31343284 0.57041252]\n"
     ]
    }
   ],
   "source": [
    "# Use a naive bayes approach as benchmark\n",
    "from sklearn.naive_bayes import MultinomialNB\n",
    "from sklearn.metrics import balanced_accuracy_score\n",
    "from sklearn.metrics import confusion_matrix\n",
    "# Fit the model\n",
    "clf = MultinomialNB().fit(train_vectors_bal, y_train_bal)\n",
    "# Predict on the test set\n",
    "predicted = clf.predict(test_complete)\n",
    "# Calculate accuracy for the balanced score\n",
    "print(\"Multinomial NB Accuracy Score -> \",balanced_accuracy_score(y_test, predicted,y_fact))\n",
    "conf_mat = confusion_matrix(y_test, predicted)\n",
    "print(conf_mat)\n",
    "print(conf_mat.diagonal(0)/np.sum(conf_mat, axis=-1))"
   ]
  },
  {
   "cell_type": "markdown",
   "metadata": {},
   "source": [
    "To evaluate the model, we choose a balanced accuracy metric. In comparison to the standard accuracy, this takes into account that smaller classes have a higher weighting than samples from the most common class.\n",
    "Additionally, we show the confusion matrix that shows, where most of the misclassifications occured.\n",
    "\n",
    "## Logistic Regression\n",
    "Next, we use Logistic Regression to predict the classes."
   ]
  },
  {
   "cell_type": "code",
   "execution_count": 66,
   "metadata": {},
   "outputs": [
    {
     "name": "stderr",
     "output_type": "stream",
     "text": [
      "/Users/David/miniconda3/lib/python3.6/site-packages/sklearn/linear_model/logistic.py:469: FutureWarning: Default multi_class will be changed to 'auto' in 0.22. Specify the multi_class option to silence this warning.\n",
      "  \"this warning.\", FutureWarning)\n"
     ]
    },
    {
     "name": "stdout",
     "output_type": "stream",
     "text": [
      "Logistic Regression ->  0.401539795883865\n",
      "[[ 10   5   4   3   2]\n",
      " [  4   8   8   6   1]\n",
      " [  4   9  26  26   7]\n",
      " [ 13  15  40  65  68]\n",
      " [ 24  43  79 128 429]]\n",
      "[0.41666667 0.2962963  0.36111111 0.32338308 0.61024182]\n"
     ]
    }
   ],
   "source": [
    "from sklearn.linear_model import LogisticRegression\n",
    "smote = LogisticRegression(solver='liblinear').fit(train_vectors_bal, y_train_bal)\n",
    "smote_pred = smote.predict(test_complete)\n",
    "print(\"Logistic Regression -> \", balanced_accuracy_score(y_test, smote_pred, y_fact))\n",
    "conf_mat = confusion_matrix(y_test,smote_pred)\n",
    "print(conf_mat)\n",
    "print(conf_mat.diagonal(0)/np.sum(conf_mat, axis=-1))"
   ]
  },
  {
   "cell_type": "markdown",
   "metadata": {},
   "source": [
    "In comparison to the previous model, the accuracy on the boundary classes improves. It should be added, that most misclassifications of both model occur on neighbouring classes. This is due to the fact, that it is difficult to differentiate between a 5* and 4* review. \n",
    "\n",
    "## Next Steps\n",
    "\n",
    "- Add categorical sentiments, instead of just looking at poisitve/negative.\n",
    "- Analyze a utility for the words. Words like \"guitar\" or \"string\" won't help, as they are mentioned in both good and bad reviews and should be removed. This could be achieved by calculating correlations between the tokenized words and the classes.\n",
    "- Another metric may suit this problem better, where this slight misclassification are not counted as severely."
   ]
  }
 ],
 "metadata": {
  "kernelspec": {
   "display_name": "Python 3",
   "language": "python",
   "name": "python3"
  },
  "language_info": {
   "codemirror_mode": {
    "name": "ipython",
    "version": 3
   },
   "file_extension": ".py",
   "mimetype": "text/x-python",
   "name": "python",
   "nbconvert_exporter": "python",
   "pygments_lexer": "ipython3",
   "version": "3.6.4"
  }
 },
 "nbformat": 4,
 "nbformat_minor": 2
}
